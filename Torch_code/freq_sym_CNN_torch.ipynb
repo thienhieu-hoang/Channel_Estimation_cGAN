{
 "cells": [
  {
   "cell_type": "code",
   "execution_count": 1,
   "metadata": {},
   "outputs": [],
   "source": [
    "import h5py\n",
    "import torch\n",
    "import torch.nn as nn\n",
    "import random\n",
    "\n",
    "\n",
    "import os\n",
    "import numpy as np\n",
    "import matplotlib.pyplot as plt\n",
    "import datetime\n",
    "from tempfile import TemporaryFile\n",
    "from scipy.io import loadmat\n",
    "# import skfuzzy as fuzz"
   ]
  },
  {
   "cell_type": "code",
   "execution_count": 2,
   "metadata": {},
   "outputs": [],
   "source": [
    "from torch.utils.data import DataLoader, TensorDataset"
   ]
  },
  {
   "cell_type": "code",
   "execution_count": 3,
   "metadata": {},
   "outputs": [
    {
     "name": "stdout",
     "output_type": "stream",
     "text": [
      "c:\\Users\\AT30890\\Hoctap\\Hprediction\\H_est_cGAN\\Channel_Estimation_cGAN_new\\Channel_Estimation_cGAN\\Torch_code\n"
     ]
    }
   ],
   "source": [
    "FILE_PATH = os.path.dirname(os.path.abspath(\"__file__\"))\n",
    "print(FILE_PATH)"
   ]
  },
  {
   "cell_type": "code",
   "execution_count": 4,
   "metadata": {},
   "outputs": [],
   "source": [
    "device = torch.device('cuda' if torch.cuda.is_available() else 'cpu')"
   ]
  },
  {
   "cell_type": "code",
   "execution_count": 5,
   "metadata": {},
   "outputs": [],
   "source": [
    "# Configuration\n",
    "os.environ[\"CUDA_DEVICE_ORDER\"] = \"PCI_BUS_ID\"\n",
    "os.environ[\"CUDA_VISIBLE_DEVICES\"] = \"0\"\n",
    "\n",
    "# Constants\n",
    "file_path = os.path.join(FILE_PATH, '..', 'DeepMIMOv2', 'Gan_Data', 'Doppler_shift', 'freq_symb_1ant_612sub', 'Gan_0_dBOutdoor1_60_1ant_612subcs.mat')\n",
    "\n",
    "file_path = os.path.normpath(file_path)\n",
    "\n",
    "BATCH_SIZE = 64  # Batch size\n",
    "\n",
    "NUM_EPOCHS = 5\n",
    "\n",
    "file = h5py.File(file_path, 'r')"
   ]
  },
  {
   "cell_type": "code",
   "execution_count": 6,
   "metadata": {},
   "outputs": [
    {
     "data": {
      "text/plain": [
       "int"
      ]
     },
     "execution_count": 6,
     "metadata": {},
     "output_type": "execute_result"
    }
   ],
   "source": [
    "type(BATCH_SIZE)"
   ]
  },
  {
   "cell_type": "code",
   "execution_count": 6,
   "metadata": {},
   "outputs": [],
   "source": [
    "# pytorch: [batchsize, channels, height, width]"
   ]
  },
  {
   "cell_type": "code",
   "execution_count": 7,
   "metadata": {},
   "outputs": [
    {
     "data": {
      "text/plain": [
       "(1647, 612, 14, 2, 1)"
      ]
     },
     "execution_count": 7,
     "metadata": {},
     "output_type": "execute_result"
    }
   ],
   "source": [
    "input_data = file['input_da']\n",
    "input_data.shape\n",
    "output_data = file['output_da']\n",
    "output_data.shape"
   ]
  },
  {
   "cell_type": "code",
   "execution_count": 8,
   "metadata": {},
   "outputs": [
    {
     "data": {
      "text/plain": [
       "torch.Size([1647, 2, 612, 14])"
      ]
     },
     "execution_count": 8,
     "metadata": {},
     "output_type": "execute_result"
    }
   ],
   "source": [
    "Hreal = np.array(file['output_da'])\n",
    "Hreal = torch.tensor(Hreal)                # Nsamples x 612 x 14 x 2 x 1 (antenna_BS)\n",
    "Hreal = Hreal.permute(0,3,1,2,4).squeeze() # 612 x 14 x 2 x Nsamples\n",
    "\n",
    "# Y\n",
    "input_data = np.array(file['input_da'])\n",
    "input_data = torch.tensor(input_data)                # Nsamples x 612 x 14 x 2 x 1 (antenna_BS)\n",
    "input_data = input_data.permute(0,3,1,2,4).squeeze() # 612 x 14 x 2 x Nsamples\n",
    "\n",
    "input_data.shape"
   ]
  },
  {
   "cell_type": "code",
   "execution_count": 9,
   "metadata": {},
   "outputs": [
    {
     "data": {
      "text/plain": [
       "torch.Size([3294, 1, 612, 14])"
      ]
     },
     "execution_count": 9,
     "metadata": {},
     "output_type": "execute_result"
    }
   ],
   "source": [
    "# Split real and imaginary grids into 2 image sets, then concatenate\n",
    "trainData   = torch.cat((input_data[:,0,:,:], input_data[:,1,:,:]), dim=0).unsqueeze(1)  # 612 x 14 x (Nsamples*2)\n",
    "trainLabels = torch.cat((Hreal[:,0,:,:], Hreal[:,1,:,:]), dim=0).unsqueeze(1)  # 612 x 14 x (Nsamples*2)\n",
    "\n",
    "trainData.shape"
   ]
  },
  {
   "cell_type": "code",
   "execution_count": 10,
   "metadata": {},
   "outputs": [
    {
     "name": "stdout",
     "output_type": "stream",
     "text": [
      "torch.Size([64, 1, 612, 14])\n",
      "torch.Size([3230, 1, 612, 14])\n"
     ]
    }
   ],
   "source": [
    "# Split into training and validation sets\n",
    "valData   = trainData[0:BATCH_SIZE,:,:,:].to(device, dtype=torch.float)\n",
    "valLabels = trainLabels[0:BATCH_SIZE,:,:,:].to(device, dtype=torch.float)\n",
    "\n",
    "trainData   = trainData[BATCH_SIZE:,:,:,:].to(device, dtype=torch.float)\n",
    "trainLabels = trainLabels[BATCH_SIZE:,:,:,:].to(device, dtype=torch.float)\n",
    "\n",
    "print(valData.shape)\n",
    "print(trainData.shape)"
   ]
  },
  {
   "cell_type": "code",
   "execution_count": 11,
   "metadata": {},
   "outputs": [],
   "source": [
    "# Validate roughly 5 times every epoch\n",
    "valFrequency = round(trainData.size(0)/BATCH_SIZE/5); "
   ]
  },
  {
   "cell_type": "code",
   "execution_count": 12,
   "metadata": {},
   "outputs": [],
   "source": [
    "class CNN_Est(nn.Module):\n",
    "    def __init__(self):\n",
    "        super(CNN_Est, self).__init__()\n",
    "        \n",
    "        self.normalization = nn.BatchNorm2d(1)\n",
    "        \n",
    "        self.conv1 = nn.Conv2d(in_channels=1, out_channels=64, kernel_size=9, padding=4)\n",
    "        self.relu  = nn.ReLU() \n",
    "        self.conv2 = nn.Conv2d(in_channels=64, out_channels=64, kernel_size=5, padding=2)\n",
    "        self.conv3 = nn.Conv2d(in_channels=64, out_channels=64, kernel_size=5, padding=2)\n",
    "        self.conv4 = nn.Conv2d(in_channels=64, out_channels=32, kernel_size=5, padding=2)\n",
    "        self.conv5 = nn.Conv2d(in_channels=32, out_channels=1, kernel_size=5, padding=2)\n",
    "\n",
    "    def forward(self, x):\n",
    "        # Forward pass\n",
    "        out = self.normalization(x)\n",
    "        out = self.conv1(x)\n",
    "        out = self.relu(out)  \n",
    "        out = self.conv2(out)\n",
    "        out = self.relu(out)  \n",
    "        out = self.conv3(out)\n",
    "        out = self.relu(out)  \n",
    "        out = self.conv4(out)\n",
    "        out = self.relu(out) \n",
    "        out = self.conv5(out)\n",
    "        return out"
   ]
  },
  {
   "cell_type": "code",
   "execution_count": 13,
   "metadata": {},
   "outputs": [
    {
     "name": "stdout",
     "output_type": "stream",
     "text": [
      "CNN_Est(\n",
      "  (normalization): BatchNorm2d(1, eps=1e-05, momentum=0.1, affine=True, track_running_stats=True)\n",
      "  (conv1): Conv2d(1, 64, kernel_size=(9, 9), stride=(1, 1), padding=(4, 4))\n",
      "  (relu): ReLU()\n",
      "  (conv2): Conv2d(64, 64, kernel_size=(5, 5), stride=(1, 1), padding=(2, 2))\n",
      "  (conv3): Conv2d(64, 64, kernel_size=(5, 5), stride=(1, 1), padding=(2, 2))\n",
      "  (conv4): Conv2d(64, 32, kernel_size=(5, 5), stride=(1, 1), padding=(2, 2))\n",
      "  (conv5): Conv2d(32, 1, kernel_size=(5, 5), stride=(1, 1), padding=(2, 2))\n",
      ")\n"
     ]
    }
   ],
   "source": [
    "model = CNN_Est().to(device)\n",
    "print(model)"
   ]
  },
  {
   "cell_type": "code",
   "execution_count": 14,
   "metadata": {},
   "outputs": [],
   "source": [
    "# Create a DataLoader for your dataset\n",
    "dataset = TensorDataset(trainData, trainLabels)\n",
    "train_loader = DataLoader(dataset, batch_size=BATCH_SIZE, shuffle=True)\n",
    "\n",
    "val_dataset = TensorDataset(valData, valLabels)\n",
    "val_loader = DataLoader(val_dataset, batch_size=BATCH_SIZE, shuffle=False)"
   ]
  },
  {
   "cell_type": "code",
   "execution_count": 15,
   "metadata": {},
   "outputs": [],
   "source": [
    "learning_rate = 0.001\n",
    "optimizer = torch.optim.Adam(model.parameters(), lr=learning_rate) \n",
    "criterion = nn.MSELoss()"
   ]
  },
  {
   "cell_type": "code",
   "execution_count": 16,
   "metadata": {},
   "outputs": [
    {
     "name": "stdout",
     "output_type": "stream",
     "text": [
      "Epoch 1/10, Loss: 2.4879971169755163e-05 \n",
      " Val Loss: 5.070341444479709e-07\n",
      "Epoch 2/10, Loss: 2.019307626208983e-07 \n",
      " Val Loss: 1.1775344432862767e-07\n",
      "Epoch 3/10, Loss: 2.464604101109502e-07 \n",
      " Val Loss: 1.2562743734179094e-07\n",
      "Epoch 4/10, Loss: 1.2088311033645974e-07 \n",
      " Val Loss: 7.376109323331548e-08\n",
      "Epoch 5/10, Loss: 6.622082124482297e-08 \n",
      " Val Loss: 6.07439076816263e-08\n",
      "Epoch 6/10, Loss: 5.6642990637770066e-08 \n",
      " Val Loss: 5.2906464986790525e-08\n",
      "Epoch 7/10, Loss: 2.3422619862828343e-07 \n",
      " Val Loss: 5.9521742201695815e-08\n",
      "Epoch 8/10, Loss: 5.457359705752763e-08 \n",
      " Val Loss: 4.2976125769200735e-08\n",
      "Epoch 9/10, Loss: 3.9513697899730114e-08 \n",
      " Val Loss: 3.6674649095402856e-08\n",
      "Epoch 10/10, Loss: 3.440782668806106e-08 \n",
      " Val Loss: 3.218166710894366e-08\n"
     ]
    }
   ],
   "source": [
    "# Training loop\n",
    "train_loss =[]\n",
    "vali_loss = []\n",
    "num_epochs = 10\n",
    "for epoch in range(num_epochs):\n",
    "    model.train()\n",
    "    running_loss = 0.0\n",
    "    for inputs, targets in train_loader:\n",
    "        optimizer.zero_grad()\n",
    "        outputs = model(inputs)\n",
    "        loss = criterion(outputs, targets)\n",
    "        loss.backward()\n",
    "        optimizer.step()\n",
    "        running_loss += loss.item()\n",
    "        \n",
    "    avg_train_loss = running_loss / len(train_loader)\n",
    "    train_loss.append(avg_train_loss)\n",
    "    print(f\"Epoch {epoch+1}/{num_epochs}, Loss: {avg_train_loss} \")\n",
    "    \n",
    "    # Validation \n",
    "    model.eval()\n",
    "    running_val_loss = 0.0\n",
    "    with torch.no_grad():\n",
    "        for val_inputs, val_targets in val_loader:\n",
    "            val_outputs = model(val_inputs)\n",
    "            val_loss = criterion(val_outputs, val_targets)\n",
    "            running_val_loss += val_loss.item()\n",
    "    avg_val_loss = running_val_loss / len(val_loader)\n",
    "    vali_loss.append(avg_val_loss)    \n",
    "            \n",
    "    print(f\" Val Loss: {avg_val_loss}\")\n"
   ]
  },
  {
   "cell_type": "code",
   "execution_count": 17,
   "metadata": {},
   "outputs": [
    {
     "data": {
      "image/png": "[encoded data removed]",
      "text/plain": [
       "<Figure size 1000x500 with 1 Axes>"
      ]
     },
     "metadata": {},
     "output_type": "display_data"
    }
   ],
   "source": [
    "plt.figure(figsize=(10, 5))\n",
    "plt.plot(train_loss, label='Training Loss')\n",
    "plt.plot(vali_loss, label='Validation Loss')\n",
    "plt.xlabel('Epoch')\n",
    "plt.ylabel('Loss')\n",
    "plt.title('Training and Validation Loss')\n",
    "plt.legend()\n",
    "plt.show()"
   ]
  },
  {
   "cell_type": "code",
   "execution_count": 41,
   "metadata": {},
   "outputs": [
    {
     "data": {
      "text/plain": [
       "torch.Size([64, 1, 612, 14])"
      ]
     },
     "execution_count": 41,
     "metadata": {},
     "output_type": "execute_result"
    }
   ],
   "source": [
    "val_outputs.shape"
   ]
  },
  {
   "cell_type": "code",
   "execution_count": 18,
   "metadata": {},
   "outputs": [
    {
     "data": {
      "image/png": "[encoded data removed]",
      "text/plain": [
       "<Figure size 1000x500 with 2 Axes>"
      ]
     },
     "metadata": {},
     "output_type": "display_data"
    }
   ],
   "source": [
    "H_estimate = val_outputs.cpu()\n",
    "plt.figure(figsize=(10, 5))\n",
    "plt.imshow(H_estimate[0,0,:,:],  aspect='auto', cmap='viridis', interpolation='none')\n",
    "plt.colorbar()\n",
    "plt.show()"
   ]
  },
  {
   "cell_type": "markdown",
   "metadata": {},
   "source": [
    "Code above:  straightly used Y to estimate H\n",
    "\n",
    "For better:  Use Y./X to estimate H\n",
    "\n",
    "Even better: Use lineearInterpolate(Y.X) to estimate H"
   ]
  }
 ],
 "metadata": {
  "kernelspec": {
   "display_name": "TF_GPU",
   "language": "python",
   "name": "python3"
  },
  "language_info": {
   "codemirror_mode": {
    "name": "ipython",
    "version": 3
   },
   "file_extension": ".py",
   "mimetype": "text/x-python",
   "name": "python",
   "nbconvert_exporter": "python",
   "pygments_lexer": "ipython3",
   "version": "3.12.3"
  }
 },
 "nbformat": 4,
 "nbformat_minor": 2
}

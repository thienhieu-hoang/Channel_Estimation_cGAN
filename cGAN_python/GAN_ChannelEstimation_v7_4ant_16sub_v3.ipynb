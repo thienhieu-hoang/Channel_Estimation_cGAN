{
 "cells": [
  {
   "cell_type": "code",
   "execution_count": 1,
   "id": "c4056c4a",
   "metadata": {},
   "outputs": [
    {
     "name": "stderr",
     "output_type": "stream",
     "text": [
      "2024-03-12 16:01:56.113843: E external/local_xla/xla/stream_executor/cuda/cuda_dnn.cc:9261] Unable to register cuDNN factory: Attempting to register factory for plugin cuDNN when one has already been registered\n",
      "2024-03-12 16:01:56.113871: E external/local_xla/xla/stream_executor/cuda/cuda_fft.cc:607] Unable to register cuFFT factory: Attempting to register factory for plugin cuFFT when one has already been registered\n",
      "2024-03-12 16:01:56.114789: E external/local_xla/xla/stream_executor/cuda/cuda_blas.cc:1515] Unable to register cuBLAS factory: Attempting to register factory for plugin cuBLAS when one has already been registered\n",
      "2024-03-12 16:01:56.120178: I tensorflow/core/platform/cpu_feature_guard.cc:182] This TensorFlow binary is optimized to use available CPU instructions in performance-critical operations.\n",
      "To enable the following instructions: AVX2 AVX512F FMA, in other operations, rebuild TensorFlow with the appropriate compiler flags.\n",
      "2024-03-12 16:01:56.694247: W tensorflow/compiler/tf2tensorrt/utils/py_utils.cc:38] TF-TRT Warning: Could not find TensorRT\n"
     ]
    }
   ],
   "source": [
    "import numpy as np\n",
    "import h5py\n",
    "import tensorflow as tf\n",
    "import random\n",
    "\n",
    "\n",
    "import os\n",
    "import numpy as np\n",
    "import matplotlib.pyplot as plt\n",
    "import datetime\n",
    "from tempfile import TemporaryFile\n",
    "from scipy.io import loadmat\n",
    "import skfuzzy as fuzz"
   ]
  },
  {
   "cell_type": "code",
   "execution_count": 2,
   "id": "58fafbc8",
   "metadata": {},
   "outputs": [],
   "source": [
    "\n",
    "# Configuration\n",
    "os.environ[\"CUDA_DEVICE_ORDER\"] = \"PCI_BUS_ID\"\n",
    "os.environ[\"CUDA_VISIBLE_DEVICES\"] = \"0\"\n",
    "\n",
    "# Constants\n",
    "# path = \"./Gan_0_dBIndoor2p4_64ant_32users_8pilot.mat\"\n",
    "path = \"../DeepMIMOv2/Gan_Data/4ant_16sub_548_560/Gan_0_dBOutdoor1_60_4ant_16subcs_8pilot.mat\"\n",
    "# path = \"../DeepMIMOv2/Gan_Data/4ant_16sub_555_557/Gan_0_dBOutdoor1_60_4ant_16subcs_8pilot.mat\"\n",
    "\n",
    "BATCH_SIZE = 64  # Batch size\n",
    "\n",
    "NUM_EPOCHS = 100"
   ]
  },
  {
   "cell_type": "code",
   "execution_count": 3,
   "id": "5637ed1d-8e35-4091-a801-3033b309e857",
   "metadata": {},
   "outputs": [],
   "source": [
    "def load_image_train(path, batch_size=BATCH_SIZE):\n",
    "    \"\"\"\n",
    "    Load, jitter, and normalize training images.\n",
    "    \"\"\"\n",
    "    with h5py.File(path, 'r') as file:\n",
    "        real_image = np.transpose(np.array(file['output_da']))\n",
    "        input_image = np.transpose(np.array(file['input_da']))\n",
    "\n",
    "    batch_im = random.sample(range(real_image.shape[0]), real_image.shape[0])\n",
    "    real_image, input_image = real_image[batch_im], input_image[batch_im]\n",
    "    \n",
    "    n_batches = int(real_image.shape[0] / batch_size)\n",
    "\n",
    "    for i in range(n_batches - 1):\n",
    "        yield real_image[i*batch_size:(i+1)*batch_size], input_image[i*batch_size:(i+1)*batch_size]\n",
    "\n",
    "\n",
    "def load_image_test(path, batch_size=1):\n",
    "    \"\"\"\n",
    "    Load and normalize test images.\n",
    "    \"\"\"\n",
    "    with h5py.File(path, 'r') as file:\n",
    "        real_image = np.transpose(np.array(file['output_da_test']))\n",
    "        input_image = np.transpose(np.array(file['input_da_test']))\n",
    "\n",
    "    n_batches = int(real_image.shape[0] / batch_size)\n",
    "\n",
    "    for i in range(n_batches - 1):\n",
    "        yield real_image[i*batch_size:(i+1)*batch_size], input_image[i*batch_size:(i+1)*batch_size]\n",
    "\n",
    "\n",
    "def load_image_test_y(path):\n",
    "    \"\"\"\n",
    "    Load test images.\n",
    "    \"\"\"\n",
    "    with h5py.File(path, 'r') as file:\n",
    "        real_image = np.transpose(np.array(file['output_da_test']))\n",
    "        input_image = np.transpose(np.array(file['input_da_test']))\n",
    "\n",
    "    return real_image, input_image\n",
    "\n",
    "\n",
    "class ShrinkLayer(tf.keras.Model):\n",
    "    def __init__(self, filters, kernel_size, strides_s=2, apply_batchnorm=True, add=False, padding_s='same'):\n",
    "        # super(EncoderLayer, self).__init__()\n",
    "        super(ShrinkLayer, self).__init__()\n",
    "        initializer = tf.random_normal_initializer(mean=0., stddev=0.02)\n",
    "        conv = tf.keras.layers.Conv2D(filters=filters, kernel_size=kernel_size, strides=strides_s,\n",
    "                             padding=padding_s, kernel_initializer=initializer, use_bias=False)\n",
    "        ac = tf.keras.layers.LeakyReLU()\n",
    "\n",
    "        components = [conv]\n",
    "        if apply_batchnorm:\n",
    "            components.append(tf.keras.layers.BatchNormalization())\n",
    "            components.append(ac)\n",
    "        \n",
    "        self.encoder_layer = tf.keras.Sequential(components)\n",
    "\n",
    "    def call(self, x):\n",
    "        return self.encoder_layer(x)\n",
    "\n",
    "\n",
    "class EnlargeLayer(tf.keras.Model):\n",
    "    def __init__(self, filters, kernel_size, padding_s='same', strides_s=2, apply_dropout=False, add=False):\n",
    "        # super(DecoderLayer, self).__init__()\n",
    "        super(EnlargeLayer, self).__init__()\n",
    "        initializer = tf.random_normal_initializer(mean=0., stddev=0.02)\n",
    "        dconv = tf.keras.layers.Conv2DTranspose(filters=filters, kernel_size=kernel_size, strides=strides_s,\n",
    "                                       padding=padding_s, kernel_initializer=initializer, use_bias=False)\n",
    "        bn = tf.keras.layers.BatchNormalization()\n",
    "        ac = tf.keras.layers.ReLU()\n",
    "\n",
    "        components = [dconv, bn]\n",
    "        if apply_dropout:\n",
    "            components.append(tf.keras.layers.Dropout(rate=0.5))\n",
    "        components.append(ac)\n",
    "        \n",
    "        self.decoder_layer = tf.keras.Sequential(components)\n",
    "\n",
    "    def call(self, x):\n",
    "        return self.decoder_layer(x)\n",
    "\n",
    "\n",
    "class Generator(tf.keras.Model):\n",
    "    def __init__(self):\n",
    "        super(Generator, self).__init__()\n",
    "\n",
    "        # Resize Input\n",
    "        self.p_layers = [\n",
    "            EnlargeLayer(filters=2, kernel_size=(1,2), strides_s=(1,2), padding_s='valid', add=True)\n",
    "        ]\n",
    "\n",
    "        # Encoder\n",
    "        self.encoder_layers = [\n",
    "            ShrinkLayer(filters=64*1, kernel_size=4, apply_batchnorm=False),\n",
    "            ShrinkLayer(filters=64*2, kernel_size=4)\n",
    "        ]\n",
    "\n",
    "        # Decoder\n",
    "        self.decoder_layers = [\n",
    "            EnlargeLayer(filters=64*2, kernel_size=2, padding_s='valid', apply_dropout=True)\n",
    "        ]\n",
    "\n",
    "        initializer = tf.random_normal_initializer(mean=0., stddev=0.02)\n",
    "        self.last = tf.keras.layers.Conv2DTranspose(filters=2, kernel_size=4, strides=2, padding='same',\n",
    "                                           kernel_initializer=initializer, activation='tanh')\n",
    "        \n",
    "\n",
    "    def call(self, x):\n",
    "        # Pass the encoder and record xs\n",
    "        for p_layer in self.p_layers:\n",
    "            x = p_layer(x)\n",
    "\n",
    "        encoder_xs = []\n",
    "        for encoder_layer in self.encoder_layers:\n",
    "            x = encoder_layer(x)\n",
    "            encoder_xs.append(x)\n",
    "\n",
    "        encoder_xs = encoder_xs[:-1][::-1]  # reverse\n",
    "\n",
    "        # Pass the decoder and apply skip connection\n",
    "        for i, decoder_layer in enumerate(self.decoder_layers):\n",
    "            x = decoder_layer(x)\n",
    "            x = tf.concat([x, encoder_xs[i]], axis=-1)  # skip connect\n",
    "\n",
    "        return self.last(x)\n"
   ]
  },
  {
   "cell_type": "code",
   "execution_count": 4,
   "metadata": {},
   "outputs": [
    {
     "data": {
      "text/plain": [
       "32.0"
      ]
     },
     "execution_count": 4,
     "metadata": {},
     "output_type": "execute_result"
    }
   ],
   "source": [
    "128/4"
   ]
  },
  {
   "cell_type": "code",
   "execution_count": 5,
   "id": "c2925867-b66f-4ea7-9cb2-59c6f450e670",
   "metadata": {},
   "outputs": [],
   "source": [
    "class Discriminator(tf.keras.Model):\n",
    "    def __init__(self):\n",
    "        super(Discriminator, self).__init__()\n",
    "        initializer = tf.random_normal_initializer(0., 0.02)\n",
    "\n",
    "        self.encoder_layer_1 = ShrinkLayer(filters=64, kernel_size=4)\n",
    "\n",
    "        self.zero_pad1 = tf.keras.layers.ZeroPadding2D()\n",
    "        self.conv = tf.keras.layers.Conv2D(128, kernel_size = (1,4), strides=1, kernel_initializer=initializer, use_bias=False)\n",
    "        self.bn1 = tf.keras.layers.BatchNormalization()\n",
    "        self.ac = tf.keras.layers.LeakyReLU()\n",
    "\n",
    "        self.zero_pad2 = tf.keras.layers.ZeroPadding2D()\n",
    "        self.last = tf.keras.layers.Conv2D(1, kernel_size = (1,8), strides=1, kernel_initializer=initializer)\n",
    "\n",
    "    def call(self, y):\n",
    "        x = y\n",
    "        x = self.encoder_layer_1(x)\n",
    "\n",
    "        x = self.zero_pad1(x)\n",
    "        x = self.conv(x)\n",
    "        x = self.bn1(x)\n",
    "        x = self.ac(x)\n",
    "\n",
    "        x = self.zero_pad2(x)\n",
    "        x = self.last(x)\n",
    "        return x\n",
    "\n",
    "\n",
    "def discriminator_loss(disc_real_output, disc_generated_output):\n",
    "    real_loss = tf.nn.sigmoid_cross_entropy_with_logits(\n",
    "            labels=tf.ones_like(disc_real_output), logits=disc_real_output)\n",
    "    generated_loss = tf.nn.sigmoid_cross_entropy_with_logits(\n",
    "            labels=tf.zeros_like(disc_generated_output), logits=disc_generated_output)\n",
    "    total_disc_loss = tf.reduce_mean(real_loss) + tf.reduce_mean(generated_loss)\n",
    "    return total_disc_loss\n",
    "\n",
    "\n",
    "def generator_loss(disc_generated_output, gen_output, target, l2_weight=100):\n",
    "    gen_loss = tf.nn.sigmoid_cross_entropy_with_logits(\n",
    "            labels=tf.ones_like(disc_generated_output), logits=disc_generated_output)\n",
    "    l2_loss = tf.reduce_mean(tf.abs(target - gen_output))\n",
    "    total_gen_loss = tf.reduce_mean(gen_loss) + l2_weight * l2_loss\n",
    "    return total_gen_loss\n",
    "\n",
    "\n",
    "def generated_image(model, test_input, tar, t=0):\n",
    "    prediction = model(test_input)\n",
    "    display_list = [np.squeeze(test_input[:, :, :, 0]), np.squeeze(tar[:, :, :, 0]), np.squeeze(prediction[:, :, :, 0])]\n",
    "    title = ['Input Y', 'Target H', 'Prediction H']\n",
    "\n",
    "    for i in range(3):\n",
    "        plt.subplot(1, 3, i+1)\n",
    "        plt.title(title[i])\n",
    "        plt.imshow(display_list[i])\n",
    "        plt.axis(\"off\")\n",
    "    plt.savefig(os.path.join(\"generated_img\", \"img_\"+str(t)+\".png\"))\n",
    "\n",
    "\n",
    "def train_step(input_image, target):\n",
    "    with tf.GradientTape() as gen_tape, tf.GradientTape() as disc_tape:\n",
    "        gen_output = generator(input_image)\n",
    "        disc_real_output = discriminator(target)\n",
    "        disc_generated_output = discriminator(gen_output)\n",
    "\n",
    "        gen_loss = generator_loss(disc_generated_output, gen_output, target)\n",
    "        disc_loss = discriminator_loss(disc_real_output, disc_generated_output)\n",
    "\n",
    "    generator_gradient = gen_tape.gradient(gen_loss, generator.trainable_variables)\n",
    "    discriminator_gradient = disc_tape.gradient(disc_loss, discriminator.trainable_variables)\n",
    "    generator_optimizer.apply_gradients(zip(generator_gradient, generator.trainable_variables))\n",
    "    discriminator_optimizer.apply_gradients(zip(discriminator_gradient, discriminator.trainable_variables))\n",
    "    \n",
    "    return gen_loss, disc_loss\n",
    "\n",
    "\n",
    "def train(epochs):\n",
    "    nm = []\n",
    "    ep = []\n",
    "    start_time = datetime.datetime.now()\n",
    "    \n",
    "    for epoch in range(epochs):\n",
    "        print(\"-----\\nEPOCH:\", epoch)\n",
    "        \n",
    "        for bi, (target, input_image) in enumerate(load_image_train(path)):\n",
    "            elapsed_time = datetime.datetime.now() - start_time\n",
    "            gen_loss, disc_loss = train_step(input_image, target)\n",
    "\n",
    "        for bii, (tar, inp) in enumerate(load_image_test(path)):\n",
    "            if bii == 100:\n",
    "                generated_image(generator, inp, tar, t=epoch+1)\n",
    "\n",
    "        realim, inpuim = load_image_test_y(path)\n",
    "        prediction = generator(inpuim)\n",
    "\n",
    "        nm.append(fuzz.nmse(np.squeeze(realim), np.squeeze(prediction)))\n",
    "\n",
    "        if epoch == epochs-1:\n",
    "            nmse_epoch = TemporaryFile()\n",
    "            np.save(nmse_epoch, nm)\n",
    "\n",
    "    return nm, ep\n"
   ]
  },
  {
   "cell_type": "code",
   "execution_count": 6,
   "metadata": {},
   "outputs": [
    {
     "name": "stderr",
     "output_type": "stream",
     "text": [
      "2024-03-12 16:01:58.979474: I tensorflow/core/common_runtime/gpu/gpu_device.cc:1929] Created device /job:localhost/replica:0/task:0/device:GPU:0 with 26 MB memory:  -> device: 0, name: NVIDIA GeForce RTX 2080 Ti, pci bus id: 0000:1a:00.0, compute capability: 7.5\n"
     ]
    }
   ],
   "source": [
    "log_dir = \"./logs\"\n",
    "summary_writer = tf.summary.create_file_writer(log_dir)"
   ]
  },
  {
   "cell_type": "code",
   "execution_count": 7,
   "metadata": {},
   "outputs": [
    {
     "name": "stdout",
     "output_type": "stream",
     "text": [
      "GPU Available: [PhysicalDevice(name='/physical_device:GPU:0', device_type='GPU')]\n"
     ]
    }
   ],
   "source": [
    "gpu_available = tf.config.list_physical_devices('GPU')\n",
    "print(\"GPU Available:\", gpu_available)"
   ]
  },
  {
   "cell_type": "code",
   "execution_count": 8,
   "metadata": {},
   "outputs": [
    {
     "name": "stderr",
     "output_type": "stream",
     "text": [
      "2024-03-12 16:01:59.023532: I external/local_xla/xla/stream_executor/cuda/cuda_driver.cc:1101] failed to allocate 26.69MiB (27983872 bytes) from device: CUDA_ERROR_OUT_OF_MEMORY: out of memory\n",
      "2024-03-12 16:01:59.024826: I external/local_xla/xla/stream_executor/cuda/cuda_driver.cc:1101] failed to allocate 24.02MiB (25185536 bytes) from device: CUDA_ERROR_OUT_OF_MEMORY: out of memory\n",
      "2024-03-12 16:01:59.140223: E external/local_xla/xla/stream_executor/cuda/cuda_dnn.cc:459] Could not create cudnn handle: CUDNN_STATUS_NOT_INITIALIZED\n",
      "2024-03-12 16:01:59.140289: E external/local_xla/xla/stream_executor/cuda/cuda_dnn.cc:463] Memory usage: 4915200 bytes free, 11546394624 bytes total.\n",
      "2024-03-12 16:01:59.140323: E external/local_xla/xla/stream_executor/cuda/cuda_dnn.cc:473] Possibly insufficient driver version: 525.85.12\n",
      "2024-03-12 16:01:59.140339: W tensorflow/core/framework/op_kernel.cc:1839] OP_REQUIRES failed at conv_grad_input_ops.cc:386 : UNIMPLEMENTED: DNN library is not found.\n"
     ]
    },
    {
     "name": "stdout",
     "output_type": "stream",
     "text": [
      "-----\n",
      "EPOCH: 0\n"
     ]
    },
    {
     "ename": "UnimplementedError",
     "evalue": "Exception encountered when calling layer 'conv2d_transpose' (type Conv2DTranspose).\n\n{{function_node __wrapped__Conv2DBackpropInput_device_/job:localhost/replica:0/task:0/device:GPU:0}} DNN library is not found. [Op:Conv2DBackpropInput] name: \n\nCall arguments received by layer 'conv2d_transpose' (type Conv2DTranspose):\n  • inputs=tf.Tensor(shape=(64, 4, 8, 2), dtype=float32)",
     "output_type": "error",
     "traceback": [
      "\u001b[0;31m---------------------------------------------------------------------------\u001b[0m",
      "\u001b[0;31mUnimplementedError\u001b[0m                        Traceback (most recent call last)",
      "Cell \u001b[0;32mIn[8], line 7\u001b[0m\n\u001b[1;32m      4\u001b[0m generator_optimizer \u001b[38;5;241m=\u001b[39m tf\u001b[38;5;241m.\u001b[39mkeras\u001b[38;5;241m.\u001b[39moptimizers\u001b[38;5;241m.\u001b[39mAdam(\u001b[38;5;241m2e-4\u001b[39m, beta_1\u001b[38;5;241m=\u001b[39m\u001b[38;5;241m0.5\u001b[39m)\n\u001b[1;32m      5\u001b[0m discriminator_optimizer \u001b[38;5;241m=\u001b[39m tf\u001b[38;5;241m.\u001b[39mkeras\u001b[38;5;241m.\u001b[39moptimizers\u001b[38;5;241m.\u001b[39mRMSprop(\u001b[38;5;241m2e-5\u001b[39m)\n\u001b[0;32m----> 7\u001b[0m nm, ep \u001b[38;5;241m=\u001b[39m \u001b[43mtrain\u001b[49m\u001b[43m(\u001b[49m\u001b[43mepochs\u001b[49m\u001b[38;5;241;43m=\u001b[39;49m\u001b[43mNUM_EPOCHS\u001b[49m\u001b[43m)\u001b[49m\n",
      "Cell \u001b[0;32mIn[5], line 87\u001b[0m, in \u001b[0;36mtrain\u001b[0;34m(epochs)\u001b[0m\n\u001b[1;32m     85\u001b[0m \u001b[38;5;28;01mfor\u001b[39;00m bi, (target, input_image) \u001b[38;5;129;01min\u001b[39;00m \u001b[38;5;28menumerate\u001b[39m(load_image_train(path)):\n\u001b[1;32m     86\u001b[0m     elapsed_time \u001b[38;5;241m=\u001b[39m datetime\u001b[38;5;241m.\u001b[39mdatetime\u001b[38;5;241m.\u001b[39mnow() \u001b[38;5;241m-\u001b[39m start_time\n\u001b[0;32m---> 87\u001b[0m     gen_loss, disc_loss \u001b[38;5;241m=\u001b[39m \u001b[43mtrain_step\u001b[49m\u001b[43m(\u001b[49m\u001b[43minput_image\u001b[49m\u001b[43m,\u001b[49m\u001b[43m \u001b[49m\u001b[43mtarget\u001b[49m\u001b[43m)\u001b[49m\n\u001b[1;32m     89\u001b[0m \u001b[38;5;28;01mfor\u001b[39;00m bii, (tar, inp) \u001b[38;5;129;01min\u001b[39;00m \u001b[38;5;28menumerate\u001b[39m(load_image_test(path)):\n\u001b[1;32m     90\u001b[0m     \u001b[38;5;28;01mif\u001b[39;00m bii \u001b[38;5;241m==\u001b[39m \u001b[38;5;241m100\u001b[39m:\n",
      "Cell \u001b[0;32mIn[5], line 62\u001b[0m, in \u001b[0;36mtrain_step\u001b[0;34m(input_image, target)\u001b[0m\n\u001b[1;32m     60\u001b[0m \u001b[38;5;28;01mdef\u001b[39;00m \u001b[38;5;21mtrain_step\u001b[39m(input_image, target):\n\u001b[1;32m     61\u001b[0m     \u001b[38;5;28;01mwith\u001b[39;00m tf\u001b[38;5;241m.\u001b[39mGradientTape() \u001b[38;5;28;01mas\u001b[39;00m gen_tape, tf\u001b[38;5;241m.\u001b[39mGradientTape() \u001b[38;5;28;01mas\u001b[39;00m disc_tape:\n\u001b[0;32m---> 62\u001b[0m         gen_output \u001b[38;5;241m=\u001b[39m \u001b[43mgenerator\u001b[49m\u001b[43m(\u001b[49m\u001b[43minput_image\u001b[49m\u001b[43m)\u001b[49m\n\u001b[1;32m     63\u001b[0m         disc_real_output \u001b[38;5;241m=\u001b[39m discriminator(target)\n\u001b[1;32m     64\u001b[0m         disc_generated_output \u001b[38;5;241m=\u001b[39m discriminator(gen_output)\n",
      "File \u001b[0;32m~/miniconda3/envs/TF310_GPU/lib/python3.10/site-packages/keras/src/utils/traceback_utils.py:70\u001b[0m, in \u001b[0;36mfilter_traceback.<locals>.error_handler\u001b[0;34m(*args, **kwargs)\u001b[0m\n\u001b[1;32m     67\u001b[0m     filtered_tb \u001b[38;5;241m=\u001b[39m _process_traceback_frames(e\u001b[38;5;241m.\u001b[39m__traceback__)\n\u001b[1;32m     68\u001b[0m     \u001b[38;5;66;03m# To get the full stack trace, call:\u001b[39;00m\n\u001b[1;32m     69\u001b[0m     \u001b[38;5;66;03m# `tf.debugging.disable_traceback_filtering()`\u001b[39;00m\n\u001b[0;32m---> 70\u001b[0m     \u001b[38;5;28;01mraise\u001b[39;00m e\u001b[38;5;241m.\u001b[39mwith_traceback(filtered_tb) \u001b[38;5;28;01mfrom\u001b[39;00m \u001b[38;5;28;01mNone\u001b[39;00m\n\u001b[1;32m     71\u001b[0m \u001b[38;5;28;01mfinally\u001b[39;00m:\n\u001b[1;32m     72\u001b[0m     \u001b[38;5;28;01mdel\u001b[39;00m filtered_tb\n",
      "Cell \u001b[0;32mIn[3], line 112\u001b[0m, in \u001b[0;36mGenerator.call\u001b[0;34m(self, x)\u001b[0m\n\u001b[1;32m    109\u001b[0m \u001b[38;5;28;01mdef\u001b[39;00m \u001b[38;5;21mcall\u001b[39m(\u001b[38;5;28mself\u001b[39m, x):\n\u001b[1;32m    110\u001b[0m     \u001b[38;5;66;03m# Pass the encoder and record xs\u001b[39;00m\n\u001b[1;32m    111\u001b[0m     \u001b[38;5;28;01mfor\u001b[39;00m p_layer \u001b[38;5;129;01min\u001b[39;00m \u001b[38;5;28mself\u001b[39m\u001b[38;5;241m.\u001b[39mp_layers:\n\u001b[0;32m--> 112\u001b[0m         x \u001b[38;5;241m=\u001b[39m \u001b[43mp_layer\u001b[49m\u001b[43m(\u001b[49m\u001b[43mx\u001b[49m\u001b[43m)\u001b[49m\n\u001b[1;32m    114\u001b[0m     encoder_xs \u001b[38;5;241m=\u001b[39m []\n\u001b[1;32m    115\u001b[0m     \u001b[38;5;28;01mfor\u001b[39;00m encoder_layer \u001b[38;5;129;01min\u001b[39;00m \u001b[38;5;28mself\u001b[39m\u001b[38;5;241m.\u001b[39mencoder_layers:\n",
      "Cell \u001b[0;32mIn[3], line 81\u001b[0m, in \u001b[0;36mEnlargeLayer.call\u001b[0;34m(self, x)\u001b[0m\n\u001b[1;32m     80\u001b[0m \u001b[38;5;28;01mdef\u001b[39;00m \u001b[38;5;21mcall\u001b[39m(\u001b[38;5;28mself\u001b[39m, x):\n\u001b[0;32m---> 81\u001b[0m     \u001b[38;5;28;01mreturn\u001b[39;00m \u001b[38;5;28;43mself\u001b[39;49m\u001b[38;5;241;43m.\u001b[39;49m\u001b[43mdecoder_layer\u001b[49m\u001b[43m(\u001b[49m\u001b[43mx\u001b[49m\u001b[43m)\u001b[49m\n",
      "\u001b[0;31mUnimplementedError\u001b[0m: Exception encountered when calling layer 'conv2d_transpose' (type Conv2DTranspose).\n\n{{function_node __wrapped__Conv2DBackpropInput_device_/job:localhost/replica:0/task:0/device:GPU:0}} DNN library is not found. [Op:Conv2DBackpropInput] name: \n\nCall arguments received by layer 'conv2d_transpose' (type Conv2DTranspose):\n  • inputs=tf.Tensor(shape=(64, 4, 8, 2), dtype=float32)"
     ]
    }
   ],
   "source": [
    "generator = Generator()\n",
    "discriminator = Discriminator()\n",
    "\n",
    "generator_optimizer = tf.keras.optimizers.Adam(2e-4, beta_1=0.5)\n",
    "discriminator_optimizer = tf.keras.optimizers.RMSprop(2e-5)\n",
    "\n",
    "nm, ep = train(epochs=NUM_EPOCHS)"
   ]
  },
  {
   "cell_type": "code",
   "execution_count": null,
   "id": "7be5fb78-5f3b-4987-a401-4708d7846e81",
   "metadata": {},
   "outputs": [
    {
     "data": {
      "image/png": "[encoded data removed]",
      "text/plain": [
       "<Figure size 640x480 with 1 Axes>"
      ]
     },
     "metadata": {},
     "output_type": "display_data"
    }
   ],
   "source": [
    "plt.figure()\n",
    "plt.plot(np.arange(NUM_EPOCHS), nm, '^-r')\n",
    "plt.xlabel('Epochs')\n",
    "plt.ylabel('NMSE')\n",
    "plt.show()"
   ]
  },
  {
   "cell_type": "code",
   "execution_count": null,
   "id": "849dd9d9-c983-41cb-9d9b-7ba5641855fe",
   "metadata": {},
   "outputs": [],
   "source": []
  }
 ],
 "metadata": {
  "kernelspec": {
   "display_name": "venv_aio_310_b",
   "language": "python",
   "name": "python3"
  },
  "language_info": {
   "codemirror_mode": {
    "name": "ipython",
    "version": 3
   },
   "file_extension": ".py",
   "mimetype": "text/x-python",
   "name": "python",
   "nbconvert_exporter": "python",
   "pygments_lexer": "ipython3",
   "version": "3.10.13"
  }
 },
 "nbformat": 4,
 "nbformat_minor": 2
}

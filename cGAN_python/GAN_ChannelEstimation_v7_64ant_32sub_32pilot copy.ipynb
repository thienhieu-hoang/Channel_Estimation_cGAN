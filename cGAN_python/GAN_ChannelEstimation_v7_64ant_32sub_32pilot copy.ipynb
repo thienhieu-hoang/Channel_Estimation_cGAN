{
 "cells": [
  {
   "cell_type": "code",
   "execution_count": 1,
   "id": "c4056c4a",
   "metadata": {},
   "outputs": [
    {
     "name": "stderr",
     "output_type": "stream",
     "text": [
      "c:\\Users\\AT30890\\AppData\\Local\\anaconda3\\lib\\site-packages\\h5py\\__init__.py:36: UserWarning: h5py is running against HDF5 1.12.2 when it was built against 1.12.1, this may cause problems\n",
      "  _warn((\"h5py is running against HDF5 {0} when it was built against {1}, \"\n"
     ]
    }
   ],
   "source": [
    "import numpy as np\n",
    "import h5py\n",
    "import tensorflow as tf\n",
    "import random\n",
    "\n",
    "\n",
    "import os\n",
    "import numpy as np\n",
    "import matplotlib.pyplot as plt\n",
    "import datetime\n",
    "from tempfile import TemporaryFile\n",
    "from scipy.io import loadmat\n",
    "import skfuzzy as fuzz"
   ]
  },
  {
   "cell_type": "code",
   "execution_count": 2,
   "id": "58fafbc8",
   "metadata": {},
   "outputs": [],
   "source": [
    "\n",
    "# Configuration\n",
    "os.environ[\"CUDA_DEVICE_ORDER\"] = \"PCI_BUS_ID\"\n",
    "os.environ[\"CUDA_VISIBLE_DEVICES\"] = \"0\"\n",
    "\n",
    "# Constants\n",
    "path = \"../DeepMIMOv2/Gan_Data/64ant_32sub_32pilot_548_560/Gan_0_dBOutdoor1_60_64ant_32subcs_32pilot.mat\"\n",
    "\n",
    "BATCH_SIZE = 64  # Batch size\n",
    "\n",
    "NUM_EPOCHS = 5"
   ]
  },
  {
   "cell_type": "code",
   "execution_count": 5,
   "metadata": {},
   "outputs": [
    {
     "data": {
      "text/plain": [
       "(1647, 64, 32, 2)"
      ]
     },
     "execution_count": 5,
     "metadata": {},
     "output_type": "execute_result"
    }
   ],
   "source": [
    "file = h5py.File(path, 'r')\n",
    "real_image = np.transpose(np.array(file['output_da']))\n",
    "real_image.shape"
   ]
  },
  {
   "cell_type": "code",
   "execution_count": 4,
   "id": "5637ed1d-8e35-4091-a801-3033b309e857",
   "metadata": {},
   "outputs": [],
   "source": [
    "def load_image_train(path, batch_size=BATCH_SIZE):\n",
    "    \"\"\"\n",
    "    Load, jitter, and normalize training images.\n",
    "    \"\"\"\n",
    "    with h5py.File(path, 'r') as file:\n",
    "        real_image = np.transpose(np.array(file['output_da']))\n",
    "        input_image = np.transpose(np.array(file['input_da']))\n",
    "\n",
    "    batch_im = random.sample(range(real_image.shape[0]), real_image.shape[0])\n",
    "    real_image, input_image = real_image[batch_im], input_image[batch_im]\n",
    "    \n",
    "    n_batches = int(real_image.shape[0] / batch_size)\n",
    "\n",
    "    for i in range(n_batches - 1):\n",
    "        yield real_image[i*batch_size:(i+1)*batch_size], input_image[i*batch_size:(i+1)*batch_size]\n",
    "\n",
    "\n",
    "def load_image_test(path, batch_size=1):\n",
    "    \"\"\"\n",
    "    Load and normalize test images.\n",
    "    \"\"\"\n",
    "    with h5py.File(path, 'r') as file:\n",
    "        real_image = np.transpose(np.array(file['output_da_test']))\n",
    "        input_image = np.transpose(np.array(file['input_da_test']))\n",
    "\n",
    "    n_batches = int(real_image.shape[0] / batch_size)\n",
    "\n",
    "    for i in range(n_batches - 1):\n",
    "        yield real_image[i*batch_size:(i+1)*batch_size], input_image[i*batch_size:(i+1)*batch_size]\n",
    "\n",
    "\n",
    "def load_image_test_y(path):\n",
    "    \"\"\"\n",
    "    Load test images.\n",
    "    \"\"\"\n",
    "    with h5py.File(path, 'r') as file:\n",
    "        real_image = np.transpose(np.array(file['output_da_test']))\n",
    "        input_image = np.transpose(np.array(file['input_da_test']))\n",
    "\n",
    "    return real_image, input_image\n",
    "\n",
    "\n",
    "class EncoderLayer(tf.keras.Model):\n",
    "    def __init__(self, filters, kernel_size, strides_s=2, apply_batchnorm=True, add=False, padding_s='same'):\n",
    "        super(EncoderLayer, self).__init__()\n",
    "        initializer = tf.random_normal_initializer(mean=0., stddev=0.02)\n",
    "        conv = tf.keras.layers.Conv2D(filters=filters, kernel_size=kernel_size, strides=strides_s,\n",
    "                             padding=padding_s, kernel_initializer=initializer, use_bias=False)\n",
    "        ac = tf.keras.layers.LeakyReLU()\n",
    "\n",
    "        components = [conv]\n",
    "        if apply_batchnorm:\n",
    "            components.append(tf.keras.layers.BatchNormalization())\n",
    "            components.append(ac)\n",
    "        \n",
    "        self.encoder_layer = tf.keras.Sequential(components)\n",
    "\n",
    "    def call(self, x):\n",
    "        return self.encoder_layer(x)\n",
    "\n",
    "\n",
    "class DecoderLayer(tf.keras.Model):\n",
    "    def __init__(self, filters, kernel_size, strides_s=2, apply_dropout=False, add=False):\n",
    "        super(DecoderLayer, self).__init__()\n",
    "        initializer = tf.random_normal_initializer(mean=0., stddev=0.02)\n",
    "        dconv = tf.keras.layers.Conv2DTranspose(filters=filters, kernel_size=kernel_size, strides=strides_s,\n",
    "                                       padding='same', kernel_initializer=initializer, use_bias=False)\n",
    "        bn = tf.keras.layers.BatchNormalization()\n",
    "        ac = tf.keras.layers.ReLU()\n",
    "\n",
    "        components = [dconv, bn]\n",
    "        if apply_dropout:\n",
    "            components.append(tf.keras.layers.Dropout(rate=0.5))\n",
    "        components.append(ac)\n",
    "        \n",
    "        self.decoder_layer = tf.keras.Sequential(components)\n",
    "\n",
    "    def call(self, x):\n",
    "        return self.decoder_layer(x)\n",
    "\n",
    "\n",
    "class Generator(tf.keras.Model):\n",
    "    def __init__(self):\n",
    "        super(Generator, self).__init__()\n",
    "\n",
    "        # Resize Input\n",
    "        # self.p_layers = [\n",
    "        #     DecoderLayer(filters=2, kernel_size=4, strides_s=2, add=True),\n",
    "        #     DecoderLayer(filters=2, kernel_size=4, strides_s=2, add=True),\n",
    "        #     EncoderLayer(filters=2, kernel_size=(6,1), strides_s=(4,1), add=True)\n",
    "        # ]\n",
    "\n",
    "        # Encoder\n",
    "        self.encoder_layers = [\n",
    "            EncoderLayer(filters=64*1, kernel_size=4, apply_batchnorm=False),\n",
    "            EncoderLayer(filters=64*2, kernel_size=4),\n",
    "            EncoderLayer(filters=64*4, kernel_size=4),\n",
    "            EncoderLayer(filters=64*8, kernel_size=4),\n",
    "            EncoderLayer(filters=64*8, kernel_size=4)\n",
    "        ]\n",
    "\n",
    "        # Decoder\n",
    "        self.decoder_layers = [\n",
    "            DecoderLayer(filters=64*8, kernel_size=4, apply_dropout=True),\n",
    "            DecoderLayer(filters=64*8, kernel_size=4, apply_dropout=True),\n",
    "            DecoderLayer(filters=64*8, kernel_size=4, apply_dropout=True),\n",
    "            DecoderLayer(filters=64*4, kernel_size=4)\n",
    "        ]\n",
    "\n",
    "        initializer = tf.random_normal_initializer(mean=0., stddev=0.02)\n",
    "        self.last = tf.keras.layers.Conv2DTranspose(filters=2, kernel_size=4, strides=2, padding='same',\n",
    "                                           kernel_initializer=initializer, activation='tanh')\n",
    "\n",
    "    def call(self, x):\n",
    "        # Pass the encoder and record xs\n",
    "        # for p_layer in self.p_layers:\n",
    "        #     x = p_layer(x)\n",
    "\n",
    "        encoder_xs = []\n",
    "        for encoder_layer in self.encoder_layers:\n",
    "            x = encoder_layer(x)\n",
    "            encoder_xs.append(x)\n",
    "\n",
    "        encoder_xs = encoder_xs[:-1][::-1]  # reverse\n",
    "\n",
    "        # Pass the decoder and apply skip connection\n",
    "        for i, decoder_layer in enumerate(self.decoder_layers):\n",
    "            x = decoder_layer(x)\n",
    "            x = tf.concat([x, encoder_xs[i]], axis=-1)  # skip connect\n",
    "\n",
    "        return self.last(x)\n"
   ]
  },
  {
   "cell_type": "code",
   "execution_count": 5,
   "id": "c2925867-b66f-4ea7-9cb2-59c6f450e670",
   "metadata": {},
   "outputs": [],
   "source": [
    "class Discriminator(tf.keras.Model):\n",
    "    def __init__(self):\n",
    "        super(Discriminator, self).__init__()\n",
    "        initializer = tf.random_normal_initializer(0., 0.02)\n",
    "\n",
    "        self.encoder_layer_1 = EncoderLayer(filters=64, kernel_size=4, apply_batchnorm=False)\n",
    "        self.encoder_layer_2 = EncoderLayer(filters=128, kernel_size=4)\n",
    "        self.encoder_layer_3 = EncoderLayer(filters=128, kernel_size=4)\n",
    "\n",
    "        self.zero_pad1 = tf.keras.layers.ZeroPadding2D()\n",
    "        self.conv = tf.keras.layers.Conv2D(512, 4, strides=1, kernel_initializer=initializer, use_bias=False)\n",
    "        self.bn1 = tf.keras.layers.BatchNormalization()\n",
    "        self.ac = tf.keras.layers.LeakyReLU()\n",
    "\n",
    "        self.zero_pad2 = tf.keras.layers.ZeroPadding2D()\n",
    "        self.last = tf.keras.layers.Conv2D(1, 4, strides=1, kernel_initializer=initializer)\n",
    "\n",
    "    def call(self, y):\n",
    "        x = y\n",
    "        x = self.encoder_layer_1(x)\n",
    "        x = self.encoder_layer_2(x)\n",
    "        x = self.encoder_layer_3(x)\n",
    "\n",
    "        x = self.zero_pad1(x)\n",
    "        x = self.conv(x)\n",
    "        x = self.bn1(x)\n",
    "        x = self.ac(x)\n",
    "\n",
    "        x = self.zero_pad2(x)\n",
    "        x = self.last(x)\n",
    "        return x\n",
    "\n",
    "\n",
    "def discriminator_loss(disc_real_output, disc_generated_output):\n",
    "    real_loss = tf.nn.sigmoid_cross_entropy_with_logits(\n",
    "            labels=tf.ones_like(disc_real_output), logits=disc_real_output)\n",
    "    generated_loss = tf.nn.sigmoid_cross_entropy_with_logits(\n",
    "            labels=tf.zeros_like(disc_generated_output), logits=disc_generated_output)\n",
    "    total_disc_loss = tf.reduce_mean(real_loss) + tf.reduce_mean(generated_loss)\n",
    "    return total_disc_loss\n",
    "\n",
    "\n",
    "def generator_loss(disc_generated_output, gen_output, target, l2_weight=100):\n",
    "    gen_loss = tf.nn.sigmoid_cross_entropy_with_logits(\n",
    "            labels=tf.ones_like(disc_generated_output), logits=disc_generated_output)\n",
    "    l2_loss = tf.reduce_mean(tf.abs(target - gen_output))\n",
    "    total_gen_loss = tf.reduce_mean(gen_loss) + l2_weight * l2_loss\n",
    "    return total_gen_loss\n",
    "\n",
    "\n",
    "def generated_image(model, test_input, tar, t=0):\n",
    "    prediction = model(test_input)\n",
    "    display_list = [np.squeeze(test_input[:, :, :, 0]), np.squeeze(tar[:, :, :, 0]), np.squeeze(prediction[:, :, :, 0])]\n",
    "    title = ['Input Y', 'Target H', 'Prediction H']\n",
    "\n",
    "    for i in range(3):\n",
    "        plt.subplot(1, 3, i+1)\n",
    "        plt.title(title[i])\n",
    "        plt.imshow(display_list[i])\n",
    "        plt.axis(\"off\")\n",
    "    plt.savefig(os.path.join(\"generated_img\", \"img_\"+str(t)+\".png\"))\n",
    "\n",
    "\n",
    "def train_step(input_image, target):\n",
    "    with tf.GradientTape() as gen_tape, tf.GradientTape() as disc_tape:\n",
    "        gen_output = generator(input_image)\n",
    "        disc_real_output = discriminator(target)\n",
    "        disc_generated_output = discriminator(gen_output)\n",
    "\n",
    "        gen_loss = generator_loss(disc_generated_output, gen_output, target)\n",
    "        disc_loss = discriminator_loss(disc_real_output, disc_generated_output)\n",
    "\n",
    "    generator_gradient = gen_tape.gradient(gen_loss, generator.trainable_variables)\n",
    "    discriminator_gradient = disc_tape.gradient(disc_loss, discriminator.trainable_variables)\n",
    "    generator_optimizer.apply_gradients(zip(generator_gradient, generator.trainable_variables))\n",
    "    discriminator_optimizer.apply_gradients(zip(discriminator_gradient, discriminator.trainable_variables))\n",
    "    \n",
    "    return gen_loss, disc_loss\n",
    "\n",
    "\n",
    "def train(epochs):\n",
    "    nm = []\n",
    "    ep = []\n",
    "    start_time = datetime.datetime.now()\n",
    "    \n",
    "    for epoch in range(epochs):\n",
    "        print(\"-----\\nEPOCH:\", epoch)\n",
    "        \n",
    "        for bi, (target, input_image) in enumerate(load_image_train(path)):\n",
    "            elapsed_time = datetime.datetime.now() - start_time\n",
    "            gen_loss, disc_loss = train_step(input_image, target)\n",
    "\n",
    "        for bii, (tar, inp) in enumerate(load_image_test(path)):\n",
    "            if bii == 100:\n",
    "                generated_image(generator, inp, tar, t=epoch+1)\n",
    "\n",
    "        realim, inpuim = load_image_test_y(path)\n",
    "        prediction = generator(inpuim)\n",
    "\n",
    "        nm.append(fuzz.nmse(np.squeeze(realim), np.squeeze(prediction)))\n",
    "\n",
    "        if epoch == epochs-1:\n",
    "            nmse_epoch = TemporaryFile()\n",
    "            np.save(nmse_epoch, nm)\n",
    "\n",
    "    return nm, ep\n"
   ]
  },
  {
   "cell_type": "code",
   "execution_count": 17,
   "metadata": {},
   "outputs": [
    {
     "data": {
      "text/plain": [
       "5"
      ]
     },
     "execution_count": 17,
     "metadata": {},
     "output_type": "execute_result"
    }
   ],
   "source": [
    "len(nm)"
   ]
  },
  {
   "cell_type": "code",
   "execution_count": 6,
   "metadata": {},
   "outputs": [
    {
     "name": "stdout",
     "output_type": "stream",
     "text": [
      "-----\n",
      "EPOCH: 0\n",
      "-----\n",
      "EPOCH: 1\n",
      "-----\n",
      "EPOCH: 2\n",
      "-----\n",
      "EPOCH: 3\n",
      "-----\n",
      "EPOCH: 4\n"
     ]
    },
    {
     "data": {
      "image/png": "[encoded data removed]",
      "text/plain": [
       "<Figure size 640x480 with 3 Axes>"
      ]
     },
     "metadata": {},
     "output_type": "display_data"
    }
   ],
   "source": [
    "generator = Generator()\n",
    "discriminator = Discriminator()\n",
    "\n",
    "generator_optimizer = tf.keras.optimizers.Adam(2e-4, beta_1=0.5)\n",
    "discriminator_optimizer = tf.keras.optimizers.RMSprop(2e-5)\n",
    "\n",
    "nm, ep = train(epochs=NUM_EPOCHS)"
   ]
  },
  {
   "cell_type": "code",
   "execution_count": 12,
   "metadata": {},
   "outputs": [
    {
     "name": "stdout",
     "output_type": "stream",
     "text": [
      "INFO:tensorflow:Assets written to: saved_model/test/generator_arch\\assets\n"
     ]
    },
    {
     "name": "stderr",
     "output_type": "stream",
     "text": [
      "INFO:tensorflow:Assets written to: saved_model/test/generator_arch\\assets\n"
     ]
    }
   ],
   "source": [
    "generator.save_weights('saved_model/test/generator_weights.h5')\n",
    "generator.save('saved_model/test/generator_arch')"
   ]
  },
  {
   "cell_type": "code",
   "execution_count": 9,
   "metadata": {},
   "outputs": [
    {
     "name": "stdout",
     "output_type": "stream",
     "text": [
      "Model: \"generator\"\n",
      "_________________________________________________________________\n",
      " Layer (type)                Output Shape              Param #   \n",
      "=================================================================\n",
      " encoder_layer (EncoderLaye  multiple                  2048      \n",
      " r)                                                              \n",
      "                                                                 \n",
      " encoder_layer_1 (EncoderLa  multiple                  131584    \n",
      " yer)                                                            \n",
      "                                                                 \n",
      " encoder_layer_2 (EncoderLa  multiple                  525312    \n",
      " yer)                                                            \n",
      "                                                                 \n",
      " encoder_layer_3 (EncoderLa  multiple                  2099200   \n",
      " yer)                                                            \n",
      "                                                                 \n",
      " encoder_layer_4 (EncoderLa  multiple                  4196352   \n",
      " yer)                                                            \n",
      "                                                                 \n",
      " decoder_layer (DecoderLaye  multiple                  4196352   \n",
      " r)                                                              \n",
      "                                                                 \n",
      " decoder_layer_1 (DecoderLa  multiple                  8390656   \n",
      " yer)                                                            \n",
      "                                                                 \n",
      " decoder_layer_2 (DecoderLa  multiple                  6293504   \n",
      " yer)                                                            \n",
      "                                                                 \n",
      " decoder_layer_3 (DecoderLa  multiple                  2622464   \n",
      " yer)                                                            \n",
      "                                                                 \n",
      " conv2d_transpose_4 (Conv2D  multiple                  10242     \n",
      " Transpose)                                                      \n",
      "                                                                 \n",
      "=================================================================\n",
      "Total params: 28467714 (108.60 MB)\n",
      "Trainable params: 28461314 (108.57 MB)\n",
      "Non-trainable params: 6400 (25.00 KB)\n",
      "_________________________________________________________________\n"
     ]
    }
   ],
   "source": [
    "generator.summary()"
   ]
  },
  {
   "cell_type": "code",
   "execution_count": 13,
   "metadata": {},
   "outputs": [
    {
     "name": "stdout",
     "output_type": "stream",
     "text": [
      "INFO:tensorflow:Assets written to: saved_model/test/discriminator_arch\\assets\n"
     ]
    },
    {
     "name": "stderr",
     "output_type": "stream",
     "text": [
      "INFO:tensorflow:Assets written to: saved_model/test/discriminator_arch\\assets\n"
     ]
    }
   ],
   "source": [
    "discriminator.save_weights('saved_model/test/discriminator_weights.h5')\n",
    "discriminator.save('saved_model/test/discriminator_arch')"
   ]
  },
  {
   "cell_type": "code",
   "execution_count": 10,
   "metadata": {},
   "outputs": [
    {
     "name": "stdout",
     "output_type": "stream",
     "text": [
      "Model: \"discriminator\"\n",
      "_________________________________________________________________\n",
      " Layer (type)                Output Shape              Param #   \n",
      "=================================================================\n",
      " encoder_layer_5 (EncoderLa  multiple                  2048      \n",
      " yer)                                                            \n",
      "                                                                 \n",
      " encoder_layer_6 (EncoderLa  multiple                  131584    \n",
      " yer)                                                            \n",
      "                                                                 \n",
      " encoder_layer_7 (EncoderLa  multiple                  262656    \n",
      " yer)                                                            \n",
      "                                                                 \n",
      " zero_padding2d (ZeroPaddin  multiple                  0         \n",
      " g2D)                                                            \n",
      "                                                                 \n",
      " conv2d_8 (Conv2D)           multiple                  1048576   \n",
      "                                                                 \n",
      " batch_normalization_10 (Ba  multiple                  2048      \n",
      " tchNormalization)                                               \n",
      "                                                                 \n",
      " leaky_re_lu_8 (LeakyReLU)   multiple                  0         \n",
      "                                                                 \n",
      " zero_padding2d_1 (ZeroPadd  multiple                  0         \n",
      " ing2D)                                                          \n",
      "                                                                 \n",
      " conv2d_9 (Conv2D)           multiple                  8193      \n",
      "                                                                 \n",
      "=================================================================\n",
      "Total params: 1455105 (5.55 MB)\n",
      "Trainable params: 1453569 (5.54 MB)\n",
      "Non-trainable params: 1536 (6.00 KB)\n",
      "_________________________________________________________________\n"
     ]
    }
   ],
   "source": [
    "discriminator.summary()"
   ]
  },
  {
   "cell_type": "markdown",
   "metadata": {},
   "source": [
    "(need more training data?)\n",
    "(here it is just 126 training data, 55 testing)"
   ]
  },
  {
   "cell_type": "code",
   "execution_count": 8,
   "id": "7be5fb78-5f3b-4987-a401-4708d7846e81",
   "metadata": {},
   "outputs": [
    {
     "data": {
      "image/png": "[encoded data removed]",
      "text/plain": [
       "<Figure size 640x480 with 1 Axes>"
      ]
     },
     "metadata": {},
     "output_type": "display_data"
    }
   ],
   "source": [
    "plt.figure()\n",
    "plt.plot(np.arange(NUM_EPOCHS), nm, '^-r')\n",
    "plt.xlabel('Epochs')\n",
    "plt.ylabel('NMSE')\n",
    "plt.show()"
   ]
  },
  {
   "cell_type": "code",
   "execution_count": null,
   "id": "849dd9d9-c983-41cb-9d9b-7ba5641855fe",
   "metadata": {},
   "outputs": [],
   "source": []
  }
 ],
 "metadata": {
  "kernelspec": {
   "display_name": "venv_aio_310_b",
   "language": "python",
   "name": "python3"
  },
  "language_info": {
   "codemirror_mode": {
    "name": "ipython",
    "version": 3
   },
   "file_extension": ".py",
   "mimetype": "text/x-python",
   "name": "python",
   "nbconvert_exporter": "python",
   "pygments_lexer": "ipython3",
   "version": "3.10.9"
  }
 },
 "nbformat": 4,
 "nbformat_minor": 2
}
